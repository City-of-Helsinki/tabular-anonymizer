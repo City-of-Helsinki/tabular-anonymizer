{
 "cells": [
  {
   "cell_type": "code",
   "execution_count": null,
   "metadata": {
    "collapsed": true
   },
   "outputs": [],
   "source": [
    "from tabular_anonymizer import DataFrameAnonymizer\n",
    "import pandas as pd\n",
    "\n",
    "file1 = \"adult.csv\"\n",
    "df = pd.read_csv(file1, sep=\",\", index_col=0)\n",
    "df.reset_index()\n",
    "df.index = range(len(df))\n",
    "df.head()\n",
    "\n",
    "# Setup Sensitive attributes you dont want to alter\n",
    "sensitive_columns = ['label']\n",
    "# Avg columns\n",
    "avg_columns = ['capital-gain', 'capital-loss']\n",
    "\n",
    "# Run tabular_anonymizer\n",
    "# Set k\n",
    "k = 10\n",
    "\n",
    "print(\"Run tabular_anonymizer. Sensitive columns: \", sensitive_columns, \", k=\", k)\n",
    "p = DataFrameAnonymizer(df, sensitive_columns, avg_columns=avg_columns)\n",
    "\n",
    "# New anonymized dataframe is formed\n",
    "df_anonymized = p.anonymize_k_anonymity(k=k)\n",
    "df_anonymized.head(20)"
   ]
  }
 ],
 "metadata": {
  "kernelspec": {
   "display_name": "Python 3",
   "language": "python",
   "name": "python3"
  },
  "language_info": {
   "codemirror_mode": {
    "name": "ipython",
    "version": 2
   },
   "file_extension": ".py",
   "mimetype": "text/x-python",
   "name": "python",
   "nbconvert_exporter": "python",
   "pygments_lexer": "ipython2",
   "version": "2.7.6"
  }
 },
 "nbformat": 4,
 "nbformat_minor": 0
}