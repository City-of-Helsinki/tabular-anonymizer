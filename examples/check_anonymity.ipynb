{
 "cells": [
  {
   "cell_type": "code",
   "execution_count": 51,
   "metadata": {},
   "outputs": [],
   "source": [
    "from tabular_anonymizer import DataFrameAnonymizer\n",
    "import pandas as pd\n",
    "from pandas.api.types import is_string_dtype, is_numeric_dtype"
   ]
  },
  {
   "cell_type": "code",
   "execution_count": 52,
   "metadata": {},
   "outputs": [
    {
     "data": {
      "text/plain": "   age         workclass  fnlwgt  education  education-num  \\\n0   39         State-gov   77516  Bachelors             13   \n1   50  Self-emp-not-inc   83311  Bachelors             13   \n2   38           Private  215646    HS-grad              9   \n3   53           Private  234721       11th              7   \n4   28           Private  338409  Bachelors             13   \n\n       marital-status         occupation   relationship   race     sex  \\\n0       Never-married       Adm-clerical  Not-in-family  White    Male   \n1  Married-civ-spouse    Exec-managerial        Husband  White    Male   \n2            Divorced  Handlers-cleaners  Not-in-family  White    Male   \n3  Married-civ-spouse  Handlers-cleaners        Husband  Black    Male   \n4  Married-civ-spouse     Prof-specialty           Wife  Black  Female   \n\n   capital-gain  capital-loss  hours-per-week native-country  label  \n0          2174             0              40  United-States      0  \n1             0             0              13  United-States      0  \n2             0             0              40  United-States      0  \n3             0             0              40  United-States      0  \n4             0             0              40           Cuba      0  ",
      "text/html": "<div>\n<style scoped>\n    .dataframe tbody tr th:only-of-type {\n        vertical-align: middle;\n    }\n\n    .dataframe tbody tr th {\n        vertical-align: top;\n    }\n\n    .dataframe thead th {\n        text-align: right;\n    }\n</style>\n<table border=\"1\" class=\"dataframe\">\n  <thead>\n    <tr style=\"text-align: right;\">\n      <th></th>\n      <th>age</th>\n      <th>workclass</th>\n      <th>fnlwgt</th>\n      <th>education</th>\n      <th>education-num</th>\n      <th>marital-status</th>\n      <th>occupation</th>\n      <th>relationship</th>\n      <th>race</th>\n      <th>sex</th>\n      <th>capital-gain</th>\n      <th>capital-loss</th>\n      <th>hours-per-week</th>\n      <th>native-country</th>\n      <th>label</th>\n    </tr>\n  </thead>\n  <tbody>\n    <tr>\n      <th>0</th>\n      <td>39</td>\n      <td>State-gov</td>\n      <td>77516</td>\n      <td>Bachelors</td>\n      <td>13</td>\n      <td>Never-married</td>\n      <td>Adm-clerical</td>\n      <td>Not-in-family</td>\n      <td>White</td>\n      <td>Male</td>\n      <td>2174</td>\n      <td>0</td>\n      <td>40</td>\n      <td>United-States</td>\n      <td>0</td>\n    </tr>\n    <tr>\n      <th>1</th>\n      <td>50</td>\n      <td>Self-emp-not-inc</td>\n      <td>83311</td>\n      <td>Bachelors</td>\n      <td>13</td>\n      <td>Married-civ-spouse</td>\n      <td>Exec-managerial</td>\n      <td>Husband</td>\n      <td>White</td>\n      <td>Male</td>\n      <td>0</td>\n      <td>0</td>\n      <td>13</td>\n      <td>United-States</td>\n      <td>0</td>\n    </tr>\n    <tr>\n      <th>2</th>\n      <td>38</td>\n      <td>Private</td>\n      <td>215646</td>\n      <td>HS-grad</td>\n      <td>9</td>\n      <td>Divorced</td>\n      <td>Handlers-cleaners</td>\n      <td>Not-in-family</td>\n      <td>White</td>\n      <td>Male</td>\n      <td>0</td>\n      <td>0</td>\n      <td>40</td>\n      <td>United-States</td>\n      <td>0</td>\n    </tr>\n    <tr>\n      <th>3</th>\n      <td>53</td>\n      <td>Private</td>\n      <td>234721</td>\n      <td>11th</td>\n      <td>7</td>\n      <td>Married-civ-spouse</td>\n      <td>Handlers-cleaners</td>\n      <td>Husband</td>\n      <td>Black</td>\n      <td>Male</td>\n      <td>0</td>\n      <td>0</td>\n      <td>40</td>\n      <td>United-States</td>\n      <td>0</td>\n    </tr>\n    <tr>\n      <th>4</th>\n      <td>28</td>\n      <td>Private</td>\n      <td>338409</td>\n      <td>Bachelors</td>\n      <td>13</td>\n      <td>Married-civ-spouse</td>\n      <td>Prof-specialty</td>\n      <td>Wife</td>\n      <td>Black</td>\n      <td>Female</td>\n      <td>0</td>\n      <td>0</td>\n      <td>40</td>\n      <td>Cuba</td>\n      <td>0</td>\n    </tr>\n  </tbody>\n</table>\n</div>"
     },
     "execution_count": 52,
     "metadata": {},
     "output_type": "execute_result"
    }
   ],
   "source": [
    "file1 = \"adult.csv\"\n",
    "df = pd.read_csv(file1, sep=\",\", index_col=0)\n",
    "df.reset_index()\n",
    "df.index = range(len(df))\n",
    "df.head()"
   ]
  },
  {
   "cell_type": "code",
   "execution_count": 53,
   "metadata": {},
   "outputs": [
    {
     "name": "stdout",
     "output_type": "stream",
     "text": [
      "(1000, 15)\n"
     ]
    },
    {
     "data": {
      "text/plain": "   age  education     sex  capital-gain  capital-loss  hours-per-week  label\n0   39  Bachelors    Male          2174             0              40      0\n1   50  Bachelors    Male             0             0              13      0\n2   38    HS-grad    Male             0             0              40      0\n3   53       11th    Male             0             0              40      0\n4   28  Bachelors  Female             0             0              40      0",
      "text/html": "<div>\n<style scoped>\n    .dataframe tbody tr th:only-of-type {\n        vertical-align: middle;\n    }\n\n    .dataframe tbody tr th {\n        vertical-align: top;\n    }\n\n    .dataframe thead th {\n        text-align: right;\n    }\n</style>\n<table border=\"1\" class=\"dataframe\">\n  <thead>\n    <tr style=\"text-align: right;\">\n      <th></th>\n      <th>age</th>\n      <th>education</th>\n      <th>sex</th>\n      <th>capital-gain</th>\n      <th>capital-loss</th>\n      <th>hours-per-week</th>\n      <th>label</th>\n    </tr>\n  </thead>\n  <tbody>\n    <tr>\n      <th>0</th>\n      <td>39</td>\n      <td>Bachelors</td>\n      <td>Male</td>\n      <td>2174</td>\n      <td>0</td>\n      <td>40</td>\n      <td>0</td>\n    </tr>\n    <tr>\n      <th>1</th>\n      <td>50</td>\n      <td>Bachelors</td>\n      <td>Male</td>\n      <td>0</td>\n      <td>0</td>\n      <td>13</td>\n      <td>0</td>\n    </tr>\n    <tr>\n      <th>2</th>\n      <td>38</td>\n      <td>HS-grad</td>\n      <td>Male</td>\n      <td>0</td>\n      <td>0</td>\n      <td>40</td>\n      <td>0</td>\n    </tr>\n    <tr>\n      <th>3</th>\n      <td>53</td>\n      <td>11th</td>\n      <td>Male</td>\n      <td>0</td>\n      <td>0</td>\n      <td>40</td>\n      <td>0</td>\n    </tr>\n    <tr>\n      <th>4</th>\n      <td>28</td>\n      <td>Bachelors</td>\n      <td>Female</td>\n      <td>0</td>\n      <td>0</td>\n      <td>40</td>\n      <td>0</td>\n    </tr>\n  </tbody>\n</table>\n</div>"
     },
     "execution_count": 53,
     "metadata": {},
     "output_type": "execute_result"
    }
   ],
   "source": [
    "# Drop some columns and rows\n",
    "# Keep only 1000 rows\n",
    "df = df.loc[0:999,]\n",
    "print(df.shape)\n",
    "# Drop some columns\n",
    "df = df.drop(columns = [\"fnlwgt\", \"workclass\", \"education-num\", \"occupation\", \"marital-status\", \"relationship\",\n",
    "                         \"race\", \"native-country\"])\n",
    "df.head()"
   ]
  },
  {
   "cell_type": "code",
   "execution_count": 54,
   "metadata": {},
   "outputs": [
    {
     "name": "stdout",
     "output_type": "stream",
     "text": [
      "Run tabular_anonymizer. Sensitive columns:  ['label'] , k= 5\n"
     ]
    },
    {
     "data": {
      "text/plain": "       age                    education     sex  capital-gain  capital-loss  \\\n0  17 - 36  Assoc-voc, 10th, Assoc-acdm  Female          0.00           0.0   \n1  17 - 36  Assoc-voc, 10th, Assoc-acdm  Female          0.00           0.0   \n2  17 - 18                   12th, 11th    Male        272.00           0.0   \n3  17 - 34    Masters, 10th, 12th, 11th    Male        912.25           0.0   \n4  17 - 34    Masters, 10th, 12th, 11th    Male        912.25           0.0   \n\n  hours-per-week  label  label_count  \n0        15 - 35      0            7  \n1        15 - 35      1            1  \n2        10 - 18      0            8  \n3        20 - 35      0            7  \n4        20 - 35      1            1  ",
      "text/html": "<div>\n<style scoped>\n    .dataframe tbody tr th:only-of-type {\n        vertical-align: middle;\n    }\n\n    .dataframe tbody tr th {\n        vertical-align: top;\n    }\n\n    .dataframe thead th {\n        text-align: right;\n    }\n</style>\n<table border=\"1\" class=\"dataframe\">\n  <thead>\n    <tr style=\"text-align: right;\">\n      <th></th>\n      <th>age</th>\n      <th>education</th>\n      <th>sex</th>\n      <th>capital-gain</th>\n      <th>capital-loss</th>\n      <th>hours-per-week</th>\n      <th>label</th>\n      <th>label_count</th>\n    </tr>\n  </thead>\n  <tbody>\n    <tr>\n      <th>0</th>\n      <td>17 - 36</td>\n      <td>Assoc-voc, 10th, Assoc-acdm</td>\n      <td>Female</td>\n      <td>0.00</td>\n      <td>0.0</td>\n      <td>15 - 35</td>\n      <td>0</td>\n      <td>7</td>\n    </tr>\n    <tr>\n      <th>1</th>\n      <td>17 - 36</td>\n      <td>Assoc-voc, 10th, Assoc-acdm</td>\n      <td>Female</td>\n      <td>0.00</td>\n      <td>0.0</td>\n      <td>15 - 35</td>\n      <td>1</td>\n      <td>1</td>\n    </tr>\n    <tr>\n      <th>2</th>\n      <td>17 - 18</td>\n      <td>12th, 11th</td>\n      <td>Male</td>\n      <td>272.00</td>\n      <td>0.0</td>\n      <td>10 - 18</td>\n      <td>0</td>\n      <td>8</td>\n    </tr>\n    <tr>\n      <th>3</th>\n      <td>17 - 34</td>\n      <td>Masters, 10th, 12th, 11th</td>\n      <td>Male</td>\n      <td>912.25</td>\n      <td>0.0</td>\n      <td>20 - 35</td>\n      <td>0</td>\n      <td>7</td>\n    </tr>\n    <tr>\n      <th>4</th>\n      <td>17 - 34</td>\n      <td>Masters, 10th, 12th, 11th</td>\n      <td>Male</td>\n      <td>912.25</td>\n      <td>0.0</td>\n      <td>20 - 35</td>\n      <td>1</td>\n      <td>1</td>\n    </tr>\n  </tbody>\n</table>\n</div>"
     },
     "execution_count": 54,
     "metadata": {},
     "output_type": "execute_result"
    }
   ],
   "source": [
    "# Setup Sensitive attributes you dont want to alter\n",
    "sensitive_columns = ['label']\n",
    "# Avg columns\n",
    "avg_columns = ['capital-gain', 'capital-loss']\n",
    "\n",
    "# Run tabular_anonymizer\n",
    "# Set k\n",
    "k = 5\n",
    "\n",
    "# List of quasi-identifiers for checking k-anonymity\n",
    "quasi_identifiers = ['age',\t'education', 'sex', 'capital-gain', 'capital-loss', 'hours-per-week']\n",
    "\n",
    "print(\"Run tabular_anonymizer. Sensitive columns: \", sensitive_columns, \", k=\", k)\n",
    "p = DataFrameAnonymizer(sensitive_columns, avg_columns=avg_columns, format_to_str=True)\n",
    "\n",
    "# New anonymized dataframe is formed\n",
    "df_anonymized = p.anonymize_k_anonymity(df, k=k)\n",
    "df_anonymized.head()"
   ]
  },
  {
   "cell_type": "code",
   "execution_count": 55,
   "metadata": {},
   "outputs": [],
   "source": [
    "# Function to check if a dataframe is k-anonymous. Works only with numeric and string data types, not lists.\n",
    "def is_k_anonymous(df, k, quasi_identifiers, count_column, debug=False):\n",
    "    for index, row in df.iterrows():\n",
    "        # If row count < k, search for other identical rows with different sensitive attribute\n",
    "        if row[count_column] < k:\n",
    "            query = ''\n",
    "            for col in quasi_identifiers:\n",
    "                # numeric columns\n",
    "                if is_numeric_dtype(df[col]):\n",
    "                    query = query + ' & ' + f'`{col}` == {row[col]}'\n",
    "                # string columns\n",
    "                elif is_string_dtype(df[col]):\n",
    "                    query = query + ' & ' f'`{col}` == \"{row[col]}\"'\n",
    "                else:\n",
    "                    print(col + \"not numeric or string\")\n",
    "                    return False\n",
    "            query = query[3:]\n",
    "            if debug:\n",
    "                print(query)\n",
    "            rows = df.query(query)\n",
    "            if debug:\n",
    "                print(rows)\n",
    "            if sum(rows[count_column]) < k:\n",
    "                return False\n",
    "    return True\n",
    "\n"
   ]
  },
  {
   "cell_type": "code",
   "execution_count": 56,
   "metadata": {},
   "outputs": [
    {
     "data": {
      "text/plain": "True"
     },
     "execution_count": 56,
     "metadata": {},
     "output_type": "execute_result"
    }
   ],
   "source": [
    "columns_to_check = quasi_identifiers\n",
    "\n",
    "is_k_anonymous(df_anonymized, 5, columns_to_check, 'label_count', debug=False)"
   ]
  }
 ],
 "metadata": {
  "interpreter": {
   "hash": "949777d72b0d2535278d3dc13498b2535136f6dfe0678499012e853ee9abcab1"
  },
  "kernelspec": {
   "display_name": "Python 3.9.9 64-bit",
   "language": "python",
   "name": "python3"
  },
  "language_info": {
   "codemirror_mode": {
    "name": "ipython",
    "version": 3
   },
   "file_extension": ".py",
   "mimetype": "text/x-python",
   "name": "python",
   "nbconvert_exporter": "python",
   "pygments_lexer": "ipython3",
   "version": "3.9.9"
  },
  "orig_nbformat": 4
 },
 "nbformat": 4,
 "nbformat_minor": 2
}