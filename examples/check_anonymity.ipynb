{
 "cells": [
  {
   "cell_type": "code",
   "execution_count": null,
   "metadata": {},
   "outputs": [],
   "source": [
    "from tabular_anonymizer import DataFrameAnonymizer\n",
    "import pandas as pd"
   ]
  },
  {
   "cell_type": "code",
   "execution_count": null,
   "metadata": {},
   "outputs": [],
   "source": [
    "file1 = \"adult.csv\"\n",
    "df = pd.read_csv(file1, sep=\",\", index_col=0)\n",
    "df.reset_index()\n",
    "df.index = range(len(df))\n",
    "df.head()"
   ]
  },
  {
   "cell_type": "code",
   "execution_count": null,
   "metadata": {},
   "outputs": [],
   "source": [
    "# Drop some columns and rows\n",
    "# Keep only 1000 rows\n",
    "df = df.loc[0:999,]\n",
    "print(df.shape)\n",
    "# Drop some columns\n",
    "df = df.drop(columns = [\"fnlwgt\", \"workclass\", \"education-num\", \"occupation\", \"race\", \"native-country\"])\n",
    "df.head()"
   ]
  },
  {
   "cell_type": "code",
   "execution_count": null,
   "metadata": {},
   "outputs": [],
   "source": [
    "# Setup Sensitive attributes you dont want to alter\n",
    "sensitive_columns = ['label']\n",
    "# Avg columns\n",
    "avg_columns = ['capital-gain', 'capital-loss']\n",
    "\n",
    "# Run tabular_anonymizer\n",
    "# Set k\n",
    "k = 5\n",
    "\n",
    "# List of quasi-identifiers for checking k-anonymity\n",
    "quasi_identifiers = ['age',\t'education', 'marital-status', 'relationship',\n",
    "\t'sex', 'capital-gain', 'capital-loss', 'hours-per-week']\n",
    "\n",
    "print(\"Run tabular_anonymizer. Sensitive columns: \", sensitive_columns, \", k=\", k)\n",
    "p = DataFrameAnonymizer(df, sensitive_columns, avg_columns=avg_columns, format_to_str=True)\n",
    "\n",
    "# New anonymized dataframe is formed\n",
    "df_anonymized = p.anonymize_k_anonymity(k=k)\n",
    "df_anonymized.head()"
   ]
  },
  {
   "cell_type": "code",
   "execution_count": null,
   "metadata": {},
   "outputs": [],
   "source": [
    "def is_k_anonymous(df, k, quasi_identifiers, count_column debug=False):\n",
    "    for index, row in df.iterrows():\n",
    "        # If row count < k, search for other identical rows with different sensitive attribute\n",
    "        if row[count_column] < k:\n",
    "            query = ' & '.join([f'`{col}` == {row[col]}' for col in quasi_identifiers])\n",
    "            if debug:\n",
    "                print(query)\n",
    "            rows = df.query(query)\n",
    "            if debug:\n",
    "                print(rows)\n",
    "            if sum(rows[count_column]) < k:\n",
    "                return False\n",
    "    return True\n",
    "\n",
    "# Miksi query ei toimi?\n"
   ]
  },
  {
   "cell_type": "code",
   "execution_count": null,
   "metadata": {},
   "outputs": [],
   "source": [
    "columns_to_check = ['sex']\n",
    "\n",
    "is_k_anonymous(df_anonymized, 5, columns_to_check, 'label_count')"
   ]
  },
  {
   "cell_type": "markdown",
   "metadata": {},
   "source": [
    "Cells below are for testing only (i.e. trash)"
   ]
  },
  {
   "cell_type": "code",
   "execution_count": null,
   "metadata": {},
   "outputs": [],
   "source": []
  },
  {
   "cell_type": "code",
   "execution_count": null,
   "metadata": {},
   "outputs": [],
   "source": [
    "#df_anonymized['sex']\n",
    "df_anonymized.loc[0, 'sex'] == ['Male']"
   ]
  },
  {
   "cell_type": "code",
   "execution_count": null,
   "metadata": {},
   "outputs": [],
   "source": [
    "df_anonymized.query(\"`sex` == ['Male']\")"
   ]
  },
  {
   "cell_type": "code",
   "execution_count": null,
   "metadata": {},
   "outputs": [],
   "source": [
    "# Only numeric columns\n",
    "num_columns = ['capital-gain', 'capital-loss']\n",
    "\n",
    "is_k_anonymous(df_anonymized, 5, num_columns, 'label_count')"
   ]
  },
  {
   "cell_type": "markdown",
   "metadata": {},
   "source": [
    "\n"
   ]
  },
  {
   "cell_type": "code",
   "execution_count": null,
   "metadata": {},
   "outputs": [],
   "source": [
    "# Original\n",
    "#def isKAnonymized(df, k):\n",
    "#    for index, row in df.iterrows():\n",
    "#        query = ' & '.join([f'{col} == \"{row[col]}\"' for col in df.columns])\n",
    "#        rows = df.query(query)\n",
    "#        if rows.shape[0] < k:\n",
    "#            return False\n",
    "#    return True"
   ]
  },
  {
   "cell_type": "code",
   "execution_count": null,
   "metadata": {},
   "outputs": [],
   "source": []
  }
 ],
 "metadata": {
  "interpreter": {
   "hash": "949777d72b0d2535278d3dc13498b2535136f6dfe0678499012e853ee9abcab1"
  },
  "kernelspec": {
   "display_name": "Python 3.9.9 64-bit",
   "language": "python",
   "name": "python3"
  },
  "language_info": {
   "codemirror_mode": {
    "name": "ipython",
    "version": 3
   },
   "file_extension": ".py",
   "mimetype": "text/x-python",
   "name": "python",
   "nbconvert_exporter": "python",
   "pygments_lexer": "ipython3",
   "version": "3.9.9"
  },
  "orig_nbformat": 4
 },
 "nbformat": 4,
 "nbformat_minor": 2
}
